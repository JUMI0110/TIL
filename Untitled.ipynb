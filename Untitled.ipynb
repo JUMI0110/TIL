{
 "cells": [
  {
   "cell_type": "code",
   "execution_count": 8,
   "id": "d2eb03a8-6f0f-4ddb-af5a-fa7d59c26397",
   "metadata": {},
   "outputs": [],
   "source": [
    "class MyList():\n",
    "    data = []\n",
    "\n",
    "    def append(self, a):\n",
    "        self.data.append(a)\n",
    "\n",
    "    def pop(self):\n",
    "        self.data.pop()"
   ]
  },
  {
   "cell_type": "code",
   "execution_count": 9,
   "id": "dbed4f53-8a9d-4e37-8b0b-6f8cd7848d42",
   "metadata": {},
   "outputs": [
    {
     "name": "stdout",
     "output_type": "stream",
     "text": [
      "[13, 4]\n"
     ]
    }
   ],
   "source": [
    "list_a = MyList()\n",
    "\n",
    "list_a.append(13)\n",
    "list_a.append(4)\n",
    "list_a.append(5)\n",
    "list_a.pop()\n",
    "print(list_a.data)"
   ]
  },
  {
   "cell_type": "code",
   "execution_count": 10,
   "id": "85ec7b83-1fb7-4bc5-8e5d-40b0bfd04e3d",
   "metadata": {},
   "outputs": [],
   "source": [
    "class Circle():\n",
    "    pi = 3.14\n",
    "\n",
    "    def __init__(self, r, x=0, y=0):\n",
    "        self.r = r\n",
    "        self.x = x\n",
    "        self.y = y\n",
    "\n",
    "    def area(self):\n",
    "        return self.pi * self.r ** 2\n",
    "\n",
    "    def center(self):\n",
    "        return (self.x, self.y)\n",
    "\n",
    "    def move(self, x, y):\n",
    "        self.x = x\n",
    "        self.y = y \n",
    "        print(f'원의 중심이 {x}, {y}로 이동했습니다.')\n",
    "\n",
    "    def round(self):\n",
    "        return self.r * self.pi * 2\n",
    "    "
   ]
  },
  {
   "cell_type": "code",
   "execution_count": 14,
   "id": "dee28b0e-5c2b-4f8f-b558-4755bb7e952b",
   "metadata": {},
   "outputs": [],
   "source": [
    "c1 = Circle(5)\n",
    "c2 = Circle(13, 2, 1)"
   ]
  },
  {
   "cell_type": "code",
   "execution_count": 15,
   "id": "79930410-513e-443e-8f79-d52ff5fae33d",
   "metadata": {},
   "outputs": [
    {
     "name": "stdout",
     "output_type": "stream",
     "text": [
      "78.5 530.66\n"
     ]
    }
   ],
   "source": [
    "print(c1.area(), c2.area())"
   ]
  },
  {
   "cell_type": "code",
   "execution_count": 19,
   "id": "8a3cc7b3-b747-4f6b-a10e-0964ba3d7c95",
   "metadata": {},
   "outputs": [],
   "source": [
    "import pandas as pd"
   ]
  },
  {
   "cell_type": "code",
   "execution_count": 20,
   "id": "026d5f5e-68ec-4be6-a8c6-cbe12b42ba3b",
   "metadata": {},
   "outputs": [],
   "source": [
    "info = {\n",
    "    '고객명': ['박세리', '이대호', '손흥민', '김연아', '마이클조던'],\n",
    "    '생년월일': ['1980-01-02', '1982-02-22', '1993-06-12', '1988-10-16', '1970-03-03'],\n",
    "    '성별': ['여자', '남자', '남자', '여자', '남자']\n",
    "}"
   ]
  },
  {
   "cell_type": "code",
   "execution_count": 21,
   "id": "283212dc-ff94-43ce-a954-9de6034d854d",
   "metadata": {},
   "outputs": [],
   "source": [
    "money = {\n",
    "     '고객명': ['김연아', '박세리', '손흥민', '이대호', '타이거우즈'],\n",
    "    '연봉': ['2000원', '3000원', '1500원', '2500원', '3500원']\n",
    "}\n"
   ]
  },
  {
   "cell_type": "code",
   "execution_count": 22,
   "id": "58450f2d-6a5a-4368-9810-4d14ba541e2d",
   "metadata": {},
   "outputs": [],
   "source": [
    "info_df = pd.DataFrame(info)\n",
    "money_df = pd.DataFrame(money)"
   ]
  },
  {
   "cell_type": "code",
   "execution_count": 23,
   "id": "b914ca75-43e6-4fb9-8eff-f0119009c7ef",
   "metadata": {},
   "outputs": [
    {
     "data": {
      "text/html": [
       "<div>\n",
       "<style scoped>\n",
       "    .dataframe tbody tr th:only-of-type {\n",
       "        vertical-align: middle;\n",
       "    }\n",
       "\n",
       "    .dataframe tbody tr th {\n",
       "        vertical-align: top;\n",
       "    }\n",
       "\n",
       "    .dataframe thead th {\n",
       "        text-align: right;\n",
       "    }\n",
       "</style>\n",
       "<table border=\"1\" class=\"dataframe\">\n",
       "  <thead>\n",
       "    <tr style=\"text-align: right;\">\n",
       "      <th></th>\n",
       "      <th>고객명</th>\n",
       "      <th>생년월일</th>\n",
       "      <th>성별</th>\n",
       "      <th>연봉</th>\n",
       "    </tr>\n",
       "  </thead>\n",
       "  <tbody>\n",
       "    <tr>\n",
       "      <th>0</th>\n",
       "      <td>박세리</td>\n",
       "      <td>1980-01-02</td>\n",
       "      <td>여자</td>\n",
       "      <td>3000원</td>\n",
       "    </tr>\n",
       "    <tr>\n",
       "      <th>1</th>\n",
       "      <td>이대호</td>\n",
       "      <td>1982-02-22</td>\n",
       "      <td>남자</td>\n",
       "      <td>2500원</td>\n",
       "    </tr>\n",
       "    <tr>\n",
       "      <th>2</th>\n",
       "      <td>손흥민</td>\n",
       "      <td>1993-06-12</td>\n",
       "      <td>남자</td>\n",
       "      <td>1500원</td>\n",
       "    </tr>\n",
       "    <tr>\n",
       "      <th>3</th>\n",
       "      <td>김연아</td>\n",
       "      <td>1988-10-16</td>\n",
       "      <td>여자</td>\n",
       "      <td>2000원</td>\n",
       "    </tr>\n",
       "  </tbody>\n",
       "</table>\n",
       "</div>"
      ],
      "text/plain": [
       "   고객명        생년월일  성별     연봉\n",
       "0  박세리  1980-01-02  여자  3000원\n",
       "1  이대호  1982-02-22  남자  2500원\n",
       "2  손흥민  1993-06-12  남자  1500원\n",
       "3  김연아  1988-10-16  여자  2000원"
      ]
     },
     "execution_count": 23,
     "metadata": {},
     "output_type": "execute_result"
    }
   ],
   "source": [
    "pd.merge(info_df, money_df)"
   ]
  },
  {
   "cell_type": "markdown",
   "id": "721a82f6-373d-4ed6-a3e4-942136366699",
   "metadata": {},
   "source": [
    "- 같은 컬럼명을 중심으로 중복된 데이터 합쳐줌 (how='inner' -> 기본값)\n",
    "- 같은 컬럼명을 중심으로 모든 데이터 합치기(how='outer')"
   ]
  },
  {
   "cell_type": "code",
   "execution_count": 24,
   "id": "3ab70b1c-06e6-4696-a17f-b9514f512f60",
   "metadata": {},
   "outputs": [
    {
     "data": {
      "text/html": [
       "<div>\n",
       "<style scoped>\n",
       "    .dataframe tbody tr th:only-of-type {\n",
       "        vertical-align: middle;\n",
       "    }\n",
       "\n",
       "    .dataframe tbody tr th {\n",
       "        vertical-align: top;\n",
       "    }\n",
       "\n",
       "    .dataframe thead th {\n",
       "        text-align: right;\n",
       "    }\n",
       "</style>\n",
       "<table border=\"1\" class=\"dataframe\">\n",
       "  <thead>\n",
       "    <tr style=\"text-align: right;\">\n",
       "      <th></th>\n",
       "      <th>고객명</th>\n",
       "      <th>생년월일</th>\n",
       "      <th>성별</th>\n",
       "      <th>연봉</th>\n",
       "    </tr>\n",
       "  </thead>\n",
       "  <tbody>\n",
       "    <tr>\n",
       "      <th>0</th>\n",
       "      <td>김연아</td>\n",
       "      <td>1988-10-16</td>\n",
       "      <td>여자</td>\n",
       "      <td>2000원</td>\n",
       "    </tr>\n",
       "    <tr>\n",
       "      <th>1</th>\n",
       "      <td>마이클조던</td>\n",
       "      <td>1970-03-03</td>\n",
       "      <td>남자</td>\n",
       "      <td>NaN</td>\n",
       "    </tr>\n",
       "    <tr>\n",
       "      <th>2</th>\n",
       "      <td>박세리</td>\n",
       "      <td>1980-01-02</td>\n",
       "      <td>여자</td>\n",
       "      <td>3000원</td>\n",
       "    </tr>\n",
       "    <tr>\n",
       "      <th>3</th>\n",
       "      <td>손흥민</td>\n",
       "      <td>1993-06-12</td>\n",
       "      <td>남자</td>\n",
       "      <td>1500원</td>\n",
       "    </tr>\n",
       "    <tr>\n",
       "      <th>4</th>\n",
       "      <td>이대호</td>\n",
       "      <td>1982-02-22</td>\n",
       "      <td>남자</td>\n",
       "      <td>2500원</td>\n",
       "    </tr>\n",
       "    <tr>\n",
       "      <th>5</th>\n",
       "      <td>타이거우즈</td>\n",
       "      <td>NaN</td>\n",
       "      <td>NaN</td>\n",
       "      <td>3500원</td>\n",
       "    </tr>\n",
       "  </tbody>\n",
       "</table>\n",
       "</div>"
      ],
      "text/plain": [
       "     고객명        생년월일   성별     연봉\n",
       "0    김연아  1988-10-16   여자  2000원\n",
       "1  마이클조던  1970-03-03   남자    NaN\n",
       "2    박세리  1980-01-02   여자  3000원\n",
       "3    손흥민  1993-06-12   남자  1500원\n",
       "4    이대호  1982-02-22   남자  2500원\n",
       "5  타이거우즈         NaN  NaN  3500원"
      ]
     },
     "execution_count": 24,
     "metadata": {},
     "output_type": "execute_result"
    }
   ],
   "source": [
    "pd.merge(info_df, money_df, how='outer')"
   ]
  },
  {
   "cell_type": "code",
   "execution_count": 25,
   "id": "4171375c-c4e0-41cd-9117-60efcc492862",
   "metadata": {},
   "outputs": [
    {
     "data": {
      "text/html": [
       "<div>\n",
       "<style scoped>\n",
       "    .dataframe tbody tr th:only-of-type {\n",
       "        vertical-align: middle;\n",
       "    }\n",
       "\n",
       "    .dataframe tbody tr th {\n",
       "        vertical-align: top;\n",
       "    }\n",
       "\n",
       "    .dataframe thead th {\n",
       "        text-align: right;\n",
       "    }\n",
       "</style>\n",
       "<table border=\"1\" class=\"dataframe\">\n",
       "  <thead>\n",
       "    <tr style=\"text-align: right;\">\n",
       "      <th></th>\n",
       "      <th>고객명</th>\n",
       "      <th>생년월일</th>\n",
       "      <th>성별</th>\n",
       "      <th>연봉</th>\n",
       "    </tr>\n",
       "  </thead>\n",
       "  <tbody>\n",
       "    <tr>\n",
       "      <th>0</th>\n",
       "      <td>박세리</td>\n",
       "      <td>1980-01-02</td>\n",
       "      <td>여자</td>\n",
       "      <td>3000원</td>\n",
       "    </tr>\n",
       "    <tr>\n",
       "      <th>1</th>\n",
       "      <td>이대호</td>\n",
       "      <td>1982-02-22</td>\n",
       "      <td>남자</td>\n",
       "      <td>2500원</td>\n",
       "    </tr>\n",
       "    <tr>\n",
       "      <th>2</th>\n",
       "      <td>손흥민</td>\n",
       "      <td>1993-06-12</td>\n",
       "      <td>남자</td>\n",
       "      <td>1500원</td>\n",
       "    </tr>\n",
       "    <tr>\n",
       "      <th>3</th>\n",
       "      <td>김연아</td>\n",
       "      <td>1988-10-16</td>\n",
       "      <td>여자</td>\n",
       "      <td>2000원</td>\n",
       "    </tr>\n",
       "    <tr>\n",
       "      <th>4</th>\n",
       "      <td>마이클조던</td>\n",
       "      <td>1970-03-03</td>\n",
       "      <td>남자</td>\n",
       "      <td>NaN</td>\n",
       "    </tr>\n",
       "  </tbody>\n",
       "</table>\n",
       "</div>"
      ],
      "text/plain": [
       "     고객명        생년월일  성별     연봉\n",
       "0    박세리  1980-01-02  여자  3000원\n",
       "1    이대호  1982-02-22  남자  2500원\n",
       "2    손흥민  1993-06-12  남자  1500원\n",
       "3    김연아  1988-10-16  여자  2000원\n",
       "4  마이클조던  1970-03-03  남자    NaN"
      ]
     },
     "execution_count": 25,
     "metadata": {},
     "output_type": "execute_result"
    }
   ],
   "source": [
    "pd.merge(info_df, money_df, how='left')"
   ]
  },
  {
   "cell_type": "code",
   "execution_count": 26,
   "id": "52cca1ce-67d1-4ed4-9130-27c30d4bf20c",
   "metadata": {},
   "outputs": [
    {
     "data": {
      "text/html": [
       "<div>\n",
       "<style scoped>\n",
       "    .dataframe tbody tr th:only-of-type {\n",
       "        vertical-align: middle;\n",
       "    }\n",
       "\n",
       "    .dataframe tbody tr th {\n",
       "        vertical-align: top;\n",
       "    }\n",
       "\n",
       "    .dataframe thead th {\n",
       "        text-align: right;\n",
       "    }\n",
       "</style>\n",
       "<table border=\"1\" class=\"dataframe\">\n",
       "  <thead>\n",
       "    <tr style=\"text-align: right;\">\n",
       "      <th></th>\n",
       "      <th>고객명</th>\n",
       "      <th>생년월일</th>\n",
       "      <th>성별</th>\n",
       "      <th>연봉</th>\n",
       "    </tr>\n",
       "  </thead>\n",
       "  <tbody>\n",
       "    <tr>\n",
       "      <th>0</th>\n",
       "      <td>김연아</td>\n",
       "      <td>1988-10-16</td>\n",
       "      <td>여자</td>\n",
       "      <td>2000원</td>\n",
       "    </tr>\n",
       "    <tr>\n",
       "      <th>1</th>\n",
       "      <td>박세리</td>\n",
       "      <td>1980-01-02</td>\n",
       "      <td>여자</td>\n",
       "      <td>3000원</td>\n",
       "    </tr>\n",
       "    <tr>\n",
       "      <th>2</th>\n",
       "      <td>손흥민</td>\n",
       "      <td>1993-06-12</td>\n",
       "      <td>남자</td>\n",
       "      <td>1500원</td>\n",
       "    </tr>\n",
       "    <tr>\n",
       "      <th>3</th>\n",
       "      <td>이대호</td>\n",
       "      <td>1982-02-22</td>\n",
       "      <td>남자</td>\n",
       "      <td>2500원</td>\n",
       "    </tr>\n",
       "    <tr>\n",
       "      <th>4</th>\n",
       "      <td>타이거우즈</td>\n",
       "      <td>NaN</td>\n",
       "      <td>NaN</td>\n",
       "      <td>3500원</td>\n",
       "    </tr>\n",
       "  </tbody>\n",
       "</table>\n",
       "</div>"
      ],
      "text/plain": [
       "     고객명        생년월일   성별     연봉\n",
       "0    김연아  1988-10-16   여자  2000원\n",
       "1    박세리  1980-01-02   여자  3000원\n",
       "2    손흥민  1993-06-12   남자  1500원\n",
       "3    이대호  1982-02-22   남자  2500원\n",
       "4  타이거우즈         NaN  NaN  3500원"
      ]
     },
     "execution_count": 26,
     "metadata": {},
     "output_type": "execute_result"
    }
   ],
   "source": [
    "pd.merge(info_df, money_df, how='right')"
   ]
  },
  {
   "cell_type": "code",
   "execution_count": 27,
   "id": "8645051a-cf8f-4e95-9ce9-d74698890bf9",
   "metadata": {},
   "outputs": [
    {
     "data": {
      "text/html": [
       "<div>\n",
       "<style scoped>\n",
       "    .dataframe tbody tr th:only-of-type {\n",
       "        vertical-align: middle;\n",
       "    }\n",
       "\n",
       "    .dataframe tbody tr th {\n",
       "        vertical-align: top;\n",
       "    }\n",
       "\n",
       "    .dataframe thead th {\n",
       "        text-align: right;\n",
       "    }\n",
       "</style>\n",
       "<table border=\"1\" class=\"dataframe\">\n",
       "  <thead>\n",
       "    <tr style=\"text-align: right;\">\n",
       "      <th></th>\n",
       "      <th>고객명</th>\n",
       "      <th>연봉</th>\n",
       "      <th>생년월일</th>\n",
       "      <th>성별</th>\n",
       "    </tr>\n",
       "  </thead>\n",
       "  <tbody>\n",
       "    <tr>\n",
       "      <th>0</th>\n",
       "      <td>김연아</td>\n",
       "      <td>2000원</td>\n",
       "      <td>1988-10-16</td>\n",
       "      <td>여자</td>\n",
       "    </tr>\n",
       "    <tr>\n",
       "      <th>1</th>\n",
       "      <td>박세리</td>\n",
       "      <td>3000원</td>\n",
       "      <td>1980-01-02</td>\n",
       "      <td>여자</td>\n",
       "    </tr>\n",
       "    <tr>\n",
       "      <th>2</th>\n",
       "      <td>손흥민</td>\n",
       "      <td>1500원</td>\n",
       "      <td>1993-06-12</td>\n",
       "      <td>남자</td>\n",
       "    </tr>\n",
       "    <tr>\n",
       "      <th>3</th>\n",
       "      <td>이대호</td>\n",
       "      <td>2500원</td>\n",
       "      <td>1982-02-22</td>\n",
       "      <td>남자</td>\n",
       "    </tr>\n",
       "    <tr>\n",
       "      <th>4</th>\n",
       "      <td>타이거우즈</td>\n",
       "      <td>3500원</td>\n",
       "      <td>NaN</td>\n",
       "      <td>NaN</td>\n",
       "    </tr>\n",
       "  </tbody>\n",
       "</table>\n",
       "</div>"
      ],
      "text/plain": [
       "     고객명     연봉        생년월일   성별\n",
       "0    김연아  2000원  1988-10-16   여자\n",
       "1    박세리  3000원  1980-01-02   여자\n",
       "2    손흥민  1500원  1993-06-12   남자\n",
       "3    이대호  2500원  1982-02-22   남자\n",
       "4  타이거우즈  3500원         NaN  NaN"
      ]
     },
     "execution_count": 27,
     "metadata": {},
     "output_type": "execute_result"
    }
   ],
   "source": [
    "pd.merge(money_df, info_df, how='left')"
   ]
  },
  {
   "cell_type": "code",
   "execution_count": 28,
   "id": "cc93d992-a16e-4013-9cdc-f902f78be9e3",
   "metadata": {},
   "outputs": [
    {
     "data": {
      "text/html": [
       "<div>\n",
       "<style scoped>\n",
       "    .dataframe tbody tr th:only-of-type {\n",
       "        vertical-align: middle;\n",
       "    }\n",
       "\n",
       "    .dataframe tbody tr th {\n",
       "        vertical-align: top;\n",
       "    }\n",
       "\n",
       "    .dataframe thead th {\n",
       "        text-align: right;\n",
       "    }\n",
       "</style>\n",
       "<table border=\"1\" class=\"dataframe\">\n",
       "  <thead>\n",
       "    <tr style=\"text-align: right;\">\n",
       "      <th></th>\n",
       "      <th>고객명</th>\n",
       "      <th>연봉</th>\n",
       "      <th>생년월일</th>\n",
       "      <th>성별</th>\n",
       "    </tr>\n",
       "  </thead>\n",
       "  <tbody>\n",
       "    <tr>\n",
       "      <th>0</th>\n",
       "      <td>박세리</td>\n",
       "      <td>3000원</td>\n",
       "      <td>1980-01-02</td>\n",
       "      <td>여자</td>\n",
       "    </tr>\n",
       "    <tr>\n",
       "      <th>1</th>\n",
       "      <td>이대호</td>\n",
       "      <td>2500원</td>\n",
       "      <td>1982-02-22</td>\n",
       "      <td>남자</td>\n",
       "    </tr>\n",
       "    <tr>\n",
       "      <th>2</th>\n",
       "      <td>손흥민</td>\n",
       "      <td>1500원</td>\n",
       "      <td>1993-06-12</td>\n",
       "      <td>남자</td>\n",
       "    </tr>\n",
       "    <tr>\n",
       "      <th>3</th>\n",
       "      <td>김연아</td>\n",
       "      <td>2000원</td>\n",
       "      <td>1988-10-16</td>\n",
       "      <td>여자</td>\n",
       "    </tr>\n",
       "    <tr>\n",
       "      <th>4</th>\n",
       "      <td>마이클조던</td>\n",
       "      <td>NaN</td>\n",
       "      <td>1970-03-03</td>\n",
       "      <td>남자</td>\n",
       "    </tr>\n",
       "  </tbody>\n",
       "</table>\n",
       "</div>"
      ],
      "text/plain": [
       "     고객명     연봉        생년월일  성별\n",
       "0    박세리  3000원  1980-01-02  여자\n",
       "1    이대호  2500원  1982-02-22  남자\n",
       "2    손흥민  1500원  1993-06-12  남자\n",
       "3    김연아  2000원  1988-10-16  여자\n",
       "4  마이클조던    NaN  1970-03-03  남자"
      ]
     },
     "execution_count": 28,
     "metadata": {},
     "output_type": "execute_result"
    }
   ],
   "source": [
    "pd.merge(money_df, info_df, how='right')"
   ]
  },
  {
   "cell_type": "code",
   "execution_count": 29,
   "id": "b3436e01-9ca2-4ccb-b5f5-979ff4be4db8",
   "metadata": {},
   "outputs": [],
   "source": [
    "info ={\n",
    "    'name': 'hong',\n",
    "    'location': 'seoul',\n",
    "    'age': 20,\n",
    "    'models': ['iphone', 'mac book', 'watch'],\n",
    "    'phone_book': {\n",
    "        'kim': '010-1234-1234',\n",
    "        'lee': '010-4567-4567',\n",
    "    } \n",
    "}"
   ]
  },
  {
   "cell_type": "code",
   "execution_count": 30,
   "id": "03985b80-3699-4871-9c5a-322868ff61e8",
   "metadata": {},
   "outputs": [
    {
     "name": "stdout",
     "output_type": "stream",
     "text": [
      "hong\n"
     ]
    }
   ],
   "source": [
    "print(info['name'])"
   ]
  },
  {
   "cell_type": "code",
   "execution_count": 32,
   "id": "77cb487e-111a-41fc-be2a-5ed1f785862d",
   "metadata": {},
   "outputs": [
    {
     "name": "stdout",
     "output_type": "stream",
     "text": [
      "iphone\n"
     ]
    }
   ],
   "source": [
    "print(info['models'][0])"
   ]
  },
  {
   "cell_type": "code",
   "execution_count": 33,
   "id": "2ec6b057-9f1d-4b96-b7f2-a3b8a38d2973",
   "metadata": {},
   "outputs": [
    {
     "name": "stdout",
     "output_type": "stream",
     "text": [
      "010-1234-1234\n"
     ]
    }
   ],
   "source": [
    "print(info['phone_book']['kim'])"
   ]
  },
  {
   "cell_type": "code",
   "execution_count": null,
   "id": "4b9fa116-9f21-43d9-b004-f9ebc1b84567",
   "metadata": {},
   "outputs": [],
   "source": []
  }
 ],
 "metadata": {
  "kernelspec": {
   "display_name": "Python 3 (ipykernel)",
   "language": "python",
   "name": "python3"
  },
  "language_info": {
   "codemirror_mode": {
    "name": "ipython",
    "version": 3
   },
   "file_extension": ".py",
   "mimetype": "text/x-python",
   "name": "python",
   "nbconvert_exporter": "python",
   "pygments_lexer": "ipython3",
   "version": "3.12.4"
  }
 },
 "nbformat": 4,
 "nbformat_minor": 5
}
