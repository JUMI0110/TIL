{
 "cells": [
  {
   "cell_type": "markdown",
   "id": "d85986c5-5b13-4361-8667-176884def91e",
   "metadata": {},
   "source": [
    "# Series\n",
    "\n",
    "- 1차원 배열 위에서 아래로 출력 -> idx: 데이터"
   ]
  },
  {
   "cell_type": "code",
   "execution_count": 1,
   "id": "6ae7962b-d16e-4543-9f4d-c1f091c9b721",
   "metadata": {},
   "outputs": [],
   "source": [
    "import pandas as pd\n",
    "import numpy as np"
   ]
  },
  {
   "cell_type": "code",
   "execution_count": 5,
   "id": "a210b9f2-8dca-4d84-9e48-afdb257cfa9f",
   "metadata": {},
   "outputs": [
    {
     "name": "stdout",
     "output_type": "stream",
     "text": [
      "[13 14 15 16 17 18 19]\n",
      "-------------------------\n",
      "0    13\n",
      "1    14\n",
      "2    15\n",
      "3    16\n",
      "4    17\n",
      "5    18\n",
      "6    19\n",
      "dtype: int64\n"
     ]
    }
   ],
   "source": [
    "arr = np.arange(13, 20)\n",
    "print(arr)\n",
    "print('-' * 25)\n",
    "s = pd.Series(arr)\n",
    "print(s)"
   ]
  },
  {
   "cell_type": "code",
   "execution_count": 6,
   "id": "dc57a1de-837c-4673-a461-9aff9dd19418",
   "metadata": {},
   "outputs": [
    {
     "name": "stdout",
     "output_type": "stream",
     "text": [
      "0    13\n",
      "1    14\n",
      "2    15\n",
      "3    16\n",
      "4    17\n",
      "5    18\n",
      "6    19\n",
      "dtype: int32\n"
     ]
    }
   ],
   "source": [
    "#형변환 가능\n",
    "s = pd.Series(arr, dtype='int32')\n",
    "print(s)"
   ]
  },
  {
   "cell_type": "code",
   "execution_count": null,
   "id": "402aa360-d573-4f61-b9c2-93951703281c",
   "metadata": {},
   "outputs": [],
   "source": []
  },
  {
   "cell_type": "code",
   "execution_count": null,
   "id": "cb201f2f-f2c3-4cf4-b184-4d736b200128",
   "metadata": {},
   "outputs": [],
   "source": []
  },
  {
   "cell_type": "code",
   "execution_count": null,
   "id": "4e5dfddd-d984-43f0-bf21-c38d6169f750",
   "metadata": {},
   "outputs": [],
   "source": []
  },
  {
   "cell_type": "code",
   "execution_count": null,
   "id": "b9e843dd-6486-4480-a9eb-5b04a8ffb4a6",
   "metadata": {},
   "outputs": [],
   "source": []
  },
  {
   "cell_type": "code",
   "execution_count": null,
   "id": "fa8d7aa3-2d68-4e46-a4cb-bb4ec4e5c52a",
   "metadata": {},
   "outputs": [],
   "source": []
  }
 ],
 "metadata": {
  "kernelspec": {
   "display_name": "Python 3 (ipykernel)",
   "language": "python",
   "name": "python3"
  },
  "language_info": {
   "codemirror_mode": {
    "name": "ipython",
    "version": 3
   },
   "file_extension": ".py",
   "mimetype": "text/x-python",
   "name": "python",
   "nbconvert_exporter": "python",
   "pygments_lexer": "ipython3",
   "version": "3.12.4"
  }
 },
 "nbformat": 4,
 "nbformat_minor": 5
}
