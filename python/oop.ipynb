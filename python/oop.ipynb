{
 "cells": [
  {
   "cell_type": "markdown",
   "id": "ede5bb8d-de0f-4153-bbbe-48260c9d27cd",
   "metadata": {},
   "source": [
    "# 객체지향 프로그래밍(OOP)\n",
    "- 클래스(class): 같은 종류의 집단에 속하는 속성(attribute)과 행위(method)를 정의하는 것\n",
    "- 인스턴스(instance): 클래스를 실제로 메모리 상에 할당한 것\n",
    "- 속성(attribute): 클래스/인스턴스가 가지고 있는 데이터/값\n",
    "- 행위(method): 클래스/인스턴스가 가지고 있는 함수/기능"
   ]
  },
  {
   "cell_type": "code",
   "execution_count": 1,
   "id": "91a8cc47-c591-4edc-9f13-eb0881f28b9e",
   "metadata": {},
   "outputs": [
    {
     "data": {
      "text/plain": [
       "complex"
      ]
     },
     "execution_count": 1,
     "metadata": {},
     "output_type": "execute_result"
    }
   ],
   "source": [
    "number = 1 + 2j\n",
    "type(number)"
   ]
  },
  {
   "cell_type": "code",
   "execution_count": 3,
   "id": "4dd375f0-c9d2-4cee-9c64-2a3b23ad5251",
   "metadata": {},
   "outputs": [
    {
     "name": "stdout",
     "output_type": "stream",
     "text": [
      "1.0\n",
      "2.0\n"
     ]
    }
   ],
   "source": [
    "print(number.real)\n",
    "print(number.imag)"
   ]
  },
  {
   "cell_type": "code",
   "execution_count": 4,
   "id": "abfa72f5-e2dc-4718-bd5a-44e7c6194333",
   "metadata": {},
   "outputs": [],
   "source": [
    "numbers= [1, 2, 4]"
   ]
  },
  {
   "cell_type": "code",
   "execution_count": 5,
   "id": "aa7c1150-2423-439c-a3dc-8e95087434ac",
   "metadata": {},
   "outputs": [
    {
     "data": {
      "text/plain": [
       "list"
      ]
     },
     "execution_count": 5,
     "metadata": {},
     "output_type": "execute_result"
    }
   ],
   "source": [
    "type(numbers)"
   ]
  },
  {
   "cell_type": "code",
   "execution_count": 6,
   "id": "b819c763-75a7-4bae-a384-8a4e791cbbf7",
   "metadata": {},
   "outputs": [
    {
     "name": "stdout",
     "output_type": "stream",
     "text": [
      "[4, 2, 1]\n"
     ]
    }
   ],
   "source": [
    "numbers.reverse()\n",
    "print(numbers)"
   ]
  },
  {
   "cell_type": "code",
   "execution_count": 8,
   "id": "441c4bac-f9af-4ded-8dab-cd889cae832f",
   "metadata": {},
   "outputs": [
    {
     "name": "stdout",
     "output_type": "stream",
     "text": [
      "010-1234-1234에서 010-456-456으로 전화거는중\n"
     ]
    }
   ],
   "source": [
    "power = False\n",
    "number_hong = '010-1234-1234'\n",
    "book = {\n",
    "    'kim': '010-456-456',\n",
    "    'park': '010-123-145',\n",
    "}\n",
    "\n",
    "def call(from_number, to_number):\n",
    "    print(f'{from_number}에서 {to_number}으로 전화거는중')\n",
    "\n",
    "call(number_hong, book['kim'])"
   ]
  },
  {
   "cell_type": "markdown",
   "id": "108c60d9-87ff-4798-b570-8484cd11d201",
   "metadata": {},
   "source": [
    "## class\n",
    "- 클래스 선언\n",
    "```python\n",
    "class ClassName():\n",
    "    attribute1 = value1\n",
    "    attribute2 = value2\n",
    "    ...\n",
    "    def method_name(self):\n",
    "        code\n",
    "    def ...\n",
    "```\n",
    "\n",
    "- 인스턴스화(클래스 실행)\n",
    "    - 독립적인 객체로 인스턴스화\n",
    "\n",
    "c = ClassName()\n",
    "\n",
    "self\n",
    "- 새롭게 만들어진 인스턴스\n",
    "- 인스턴스 안의 데이터를 활용하기 위해 메소드에 self(인스턴스)인자를 넣어줌\n"
   ]
  },
  {
   "cell_type": "code",
   "execution_count": 9,
   "id": "177b8db3-267e-4679-b811-bb64979e7926",
   "metadata": {},
   "outputs": [],
   "source": [
    "class Myclass():\n",
    "    name = 'kim'\n",
    "\n",
    "    def hello(self):\n",
    "        return 'hello'"
   ]
  },
  {
   "cell_type": "code",
   "execution_count": 10,
   "id": "04eae66c-7ec8-47df-b67e-cce6f92cecbb",
   "metadata": {},
   "outputs": [
    {
     "name": "stdout",
     "output_type": "stream",
     "text": [
      "<__main__.Myclass object at 0x000001CB4C7CBE10>\n"
     ]
    }
   ],
   "source": [
    "m = Myclass()\n",
    "print(m)"
   ]
  },
  {
   "cell_type": "code",
   "execution_count": 11,
   "id": "aaabdeca-bedf-4f76-995e-be9d47753af2",
   "metadata": {},
   "outputs": [
    {
     "name": "stdout",
     "output_type": "stream",
     "text": [
      "kim\n"
     ]
    }
   ],
   "source": [
    "print(m.name)"
   ]
  },
  {
   "cell_type": "code",
   "execution_count": 12,
   "id": "364fff5d-e80b-4ef7-954e-ad30fca33703",
   "metadata": {},
   "outputs": [
    {
     "name": "stdout",
     "output_type": "stream",
     "text": [
      "hello\n"
     ]
    }
   ],
   "source": [
    "print(m.hello())"
   ]
  },
  {
   "cell_type": "code",
   "execution_count": 13,
   "id": "8dfd8e81-a16f-40b0-9d00-4eeb97ccbcd7",
   "metadata": {},
   "outputs": [],
   "source": [
    "m2 = Myclass()"
   ]
  },
  {
   "cell_type": "code",
   "execution_count": 14,
   "id": "f10e31e1-5851-4002-a440-823fb07da1bc",
   "metadata": {},
   "outputs": [
    {
     "name": "stdout",
     "output_type": "stream",
     "text": [
      "park\n",
      "hello\n"
     ]
    }
   ],
   "source": [
    "m2.name = 'park'\n",
    "print(m2.name)\n",
    "print(m.hello())"
   ]
  },
  {
   "cell_type": "code",
   "execution_count": 18,
   "id": "c7663fe9-443c-4639-adc5-07f58f263aaa",
   "metadata": {},
   "outputs": [],
   "source": [
    "class Phone():\n",
    "    power = False\n",
    "    number = '010-0000-0000'\n",
    "    book = {}\n",
    "    model = ''\n",
    "\n",
    "    def on(self):\n",
    "        if self.power == False:\n",
    "            self.power = True\n",
    "\n",
    "    def off(self):\n",
    "        if self.power == True:\n",
    "            self.power = False\n",
    "\n",
    "    def call(self, target):\n",
    "        if self.power == True:\n",
    "            print(f'{self.number}에서 {target}으로 전화거는중')\n",
    "\n",
    "        else:\n",
    "            print('핸드폰이 꺼져있습니다.')"
   ]
  },
  {
   "cell_type": "code",
   "execution_count": 19,
   "id": "2874d5dd-5d6b-484b-a1cb-243eee3032f3",
   "metadata": {},
   "outputs": [],
   "source": [
    "my_phone = Phone()\n",
    "your_phone = Phone()"
   ]
  },
  {
   "cell_type": "code",
   "execution_count": 20,
   "id": "b0a73f2a-8490-4dce-a4da-468fe38fcdfa",
   "metadata": {},
   "outputs": [],
   "source": [
    "my_phone.number = '010-1234-1234'\n",
    "your_phone.number = '010-4567-4567'"
   ]
  },
  {
   "cell_type": "code",
   "execution_count": 21,
   "id": "77ed8699-b7a4-4e93-9963-286052eb5c98",
   "metadata": {},
   "outputs": [
    {
     "name": "stdout",
     "output_type": "stream",
     "text": [
      "핸드폰이 꺼져있습니다.\n"
     ]
    }
   ],
   "source": [
    "my_phone.call(your_phone.number)"
   ]
  },
  {
   "cell_type": "code",
   "execution_count": 22,
   "id": "169a3305-7444-4a3c-a2f9-ddebd91b02dc",
   "metadata": {},
   "outputs": [],
   "source": [
    "my_phone.on()\n",
    "your_phone.on()"
   ]
  },
  {
   "cell_type": "code",
   "execution_count": 23,
   "id": "2d2129dd-60f5-467b-83bc-5eab67275908",
   "metadata": {},
   "outputs": [
    {
     "name": "stdout",
     "output_type": "stream",
     "text": [
      "010-1234-1234에서 010-4567-4567으로 전화거는중\n"
     ]
    }
   ],
   "source": [
    "my_phone.call(your_phone.number)"
   ]
  },
  {
   "cell_type": "code",
   "execution_count": 24,
   "id": "785d7937-22bc-4068-84b6-c06b966c88f7",
   "metadata": {},
   "outputs": [],
   "source": [
    "class MyList():\n",
    "    data = []\n",
    "\n",
    "    def append(self, a):\n",
    "        self.data.append(a)\n",
    "\n",
    "    def pop(self):\n",
    "        self.data.pop()"
   ]
  },
  {
   "cell_type": "code",
   "execution_count": 25,
   "id": "2329ccd7-b1d2-41f3-83ef-a8d5858f9d6c",
   "metadata": {},
   "outputs": [
    {
     "name": "stdout",
     "output_type": "stream",
     "text": [
      "[]\n",
      "[13]\n",
      "[13, 5]\n",
      "[13]\n"
     ]
    }
   ],
   "source": [
    "list_a = MyList()\n",
    "\n",
    "print(list_a.data)\n",
    "\n",
    "list_a.append(13)\n",
    "print(list_a.data)\n",
    "list_a.append(5)\n",
    "print(list_a.data)\n",
    "list_a.pop()\n",
    "print(list_a.data)"
   ]
  },
  {
   "cell_type": "code",
   "execution_count": 26,
   "id": "ee80459f-e045-4c47-8370-907eab02defe",
   "metadata": {},
   "outputs": [],
   "source": [
    "class MyList():\n",
    "    data = []\n",
    "\n",
    "    def append(self, item):\n",
    "        self.data = self.data + [item]\n",
    "\n",
    "    def pop(self):\n",
    "        result = self.data[-1]\n",
    "        self.data = self.data[:-1]\n",
    "        "
   ]
  },
  {
   "cell_type": "code",
   "execution_count": 27,
   "id": "318386f3-e7de-4f71-80db-87499bc9e833",
   "metadata": {},
   "outputs": [
    {
     "name": "stdout",
     "output_type": "stream",
     "text": [
      "[13]\n"
     ]
    }
   ],
   "source": [
    "list_a = MyList()\n",
    "\n",
    "list_a.append(13)\n",
    "list_a.append(5)\n",
    "list_a.pop()\n",
    "print(list_a.data)"
   ]
  },
  {
   "cell_type": "code",
   "execution_count": 31,
   "id": "6432ee70-b426-4ffc-a15d-458cdf16d516",
   "metadata": {},
   "outputs": [
    {
     "name": "stdout",
     "output_type": "stream",
     "text": [
      "['일', '이', '삼']\n"
     ]
    }
   ],
   "source": [
    "list_b = MyList()\n",
    "list_b.append('일')\n",
    "list_b.append('이')\n",
    "list_b.append('삼')\n",
    "print(list_b.data)"
   ]
  },
  {
   "cell_type": "markdown",
   "id": "9e719581-92bc-41a9-ae60-b4369e75890d",
   "metadata": {},
   "source": [
    "## 생성자, 소멸자\n",
    "```python\n",
    "class MyClass():\n",
    "\n",
    "    def __init__(self):\n",
    "        pass\n",
    "    def __del__(self):\n",
    "        pass\n",
    "```\n",
    "함수의 이름이 정해져 있음\n",
    "\n",
    "클래스를 실행한다는 것은 클래스 안의 __init__ 함수를 실행하는 것"
   ]
  },
  {
   "cell_type": "code",
   "execution_count": 34,
   "id": "10168dac-8cf9-409f-ae7f-a6acdc20e977",
   "metadata": {},
   "outputs": [],
   "source": [
    "class Circle():\n",
    "    pi = 3.14\n",
    "    \n",
    "    def __init__(self, r, x=0, y=0):\n",
    "        self.r = r\n",
    "        self.x = x\n",
    "        self.y = y\n",
    "\n",
    "    def area(self):\n",
    "        return self.pi * self.r ** 2\n",
    "\n",
    "    def center(self):\n",
    "        return (self.x, self.y)\n",
    "\n",
    "    def move(self, x, y):\n",
    "        self.x = x\n",
    "        self.y = y\n",
    "        print(f'원의 중심이 {x}, {y}로 이동했습니다.')\n",
    "\n",
    "    def round(self):\n",
    "        return self.r * self.pi * 2"
   ]
  },
  {
   "cell_type": "code",
   "execution_count": 35,
   "id": "a9a7f6dd-26ba-4715-8554-f37987128ab6",
   "metadata": {},
   "outputs": [
    {
     "ename": "TypeError",
     "evalue": "Circle.__init__() missing 1 required positional argument: 'r'",
     "output_type": "error",
     "traceback": [
      "\u001b[1;31m---------------------------------------------------------------------------\u001b[0m",
      "\u001b[1;31mTypeError\u001b[0m                                 Traceback (most recent call last)",
      "Cell \u001b[1;32mIn[35], line 1\u001b[0m\n\u001b[1;32m----> 1\u001b[0m c1 \u001b[38;5;241m=\u001b[39m \u001b[43mCircle\u001b[49m\u001b[43m(\u001b[49m\u001b[43m)\u001b[49m\n",
      "\u001b[1;31mTypeError\u001b[0m: Circle.__init__() missing 1 required positional argument: 'r'"
     ]
    }
   ],
   "source": [
    "c1 = Circle()"
   ]
  },
  {
   "cell_type": "code",
   "execution_count": 36,
   "id": "44fd36c5-920b-4d63-9899-279342912d4c",
   "metadata": {},
   "outputs": [],
   "source": [
    "c1 = Circle(5)\n",
    "c2 = Circle(10, 3, 3)"
   ]
  },
  {
   "cell_type": "code",
   "execution_count": 37,
   "id": "f3092e93-cc5b-4d89-9c08-068d1e7ae183",
   "metadata": {},
   "outputs": [
    {
     "name": "stdout",
     "output_type": "stream",
     "text": [
      "78.5\n",
      "314.0\n",
      "(0, 0)\n",
      "(3, 3)\n"
     ]
    }
   ],
   "source": [
    "print(c1.area())\n",
    "print(c2.area())\n",
    "print(c1.center())\n",
    "print(c2.center())"
   ]
  },
  {
   "cell_type": "code",
   "execution_count": 38,
   "id": "5a7014a6-a6dd-4f7e-9e02-35ef3d0e17c6",
   "metadata": {},
   "outputs": [
    {
     "name": "stdout",
     "output_type": "stream",
     "text": [
      "원의 중심이 10, 10로 이동했습니다.\n",
      "None\n",
      "원의 중심이 2, 9로 이동했습니다.\n",
      "None\n"
     ]
    }
   ],
   "source": [
    "print(c1.move(10, 10))\n",
    "print(c2.move(2, 9))"
   ]
  },
  {
   "cell_type": "code",
   "execution_count": 39,
   "id": "974773dc-160a-40ec-997d-9229a6fc0e63",
   "metadata": {},
   "outputs": [
    {
     "name": "stdout",
     "output_type": "stream",
     "text": [
      "31.400000000000002\n",
      "62.800000000000004\n"
     ]
    }
   ],
   "source": [
    "print(c1.round())\n",
    "print(c2.round())"
   ]
  },
  {
   "cell_type": "code",
   "execution_count": 41,
   "id": "fb2db269-533e-413f-ae39-a197c94ad231",
   "metadata": {},
   "outputs": [],
   "source": [
    "class Point():\n",
    "    def __init__(self, x, y):\n",
    "        self.x = x\n",
    "        self.y = y\n",
    "\n",
    "    def info(self):\n",
    "        return (self.x, self.y)"
   ]
  },
  {
   "cell_type": "code",
   "execution_count": 43,
   "id": "bd91fb00-7b41-4da8-b4fa-c531bdc75b48",
   "metadata": {},
   "outputs": [],
   "source": [
    "class Circle():\n",
    "    def __init__(self, point, r):\n",
    "        self.point = point\n",
    "        self.r = r\n",
    "\n",
    "    def info(self):\n",
    "        return (self.point.x, self.point.y, self.r)\n",
    "\n",
    "    def move(self, x, y):\n",
    "        self.point.x = x\n",
    "        self.point.y = y"
   ]
  },
  {
   "cell_type": "code",
   "execution_count": 44,
   "id": "20b98092-d57a-4ca1-bce9-e4972bd1acaa",
   "metadata": {},
   "outputs": [
    {
     "name": "stdout",
     "output_type": "stream",
     "text": [
      "(1, 2)\n"
     ]
    }
   ],
   "source": [
    "p1 = Point(1, 2)\n",
    "print(p1.info())"
   ]
  },
  {
   "cell_type": "code",
   "execution_count": 45,
   "id": "84ee8202-bce0-45fd-9eec-c078642a10ca",
   "metadata": {},
   "outputs": [
    {
     "name": "stdout",
     "output_type": "stream",
     "text": [
      "(1, 2, 5)\n"
     ]
    }
   ],
   "source": [
    "c1 = Circle(p1, 5)\n",
    "print(c1.info())"
   ]
  },
  {
   "cell_type": "code",
   "execution_count": 46,
   "id": "72b7a01c-9d62-4e71-a52a-ea1c8121e0e7",
   "metadata": {},
   "outputs": [
    {
     "name": "stdout",
     "output_type": "stream",
     "text": [
      "(5, 5, 5)\n"
     ]
    }
   ],
   "source": [
    "c1.move(5, 5)\n",
    "print(c1.info())"
   ]
  },
  {
   "cell_type": "markdown",
   "id": "78d402e3-4e55-4165-9059-38551d0e7b91",
   "metadata": {},
   "source": [
    "## 클래스 변수\n",
    "- 클래스 선언 블록 최상단에 위치\n",
    "\n",
    "## 인스턴스 변수\n",
    "- 인스턴스 내부에서 생성한 변수 (self.variable = )\n",
    "```python\n",
    "class MyClass():\n",
    "    class_variable = '클래스 변수'\n",
    "\n",
    "    def __init__(self):\n",
    "        self.instance_variable = '인스턴스 변수'\n",
    "```"
   ]
  },
  {
   "cell_type": "code",
   "execution_count": 49,
   "id": "1230b9c0-5d8c-45b4-a0a0-796366256bfc",
   "metadata": {},
   "outputs": [],
   "source": [
    "class Person():\n",
    "    name = '홍길동'\n",
    "    phone = '010-1234-1234'\n",
    "    def __init__(self, name):\n",
    "        self.name = name"
   ]
  },
  {
   "cell_type": "code",
   "execution_count": 50,
   "id": "b5976073-c075-46a0-b5fe-220f5c6b086a",
   "metadata": {},
   "outputs": [
    {
     "name": "stdout",
     "output_type": "stream",
     "text": [
      "010-1234-1234\n",
      "김주미\n"
     ]
    }
   ],
   "source": [
    "p1 = Person('김주미')\n",
    "print(p1.phone)\n",
    "print(p1.name)"
   ]
  },
  {
   "cell_type": "markdown",
   "id": "df2e630c-487f-4196-bc60-be49a7d93d99",
   "metadata": {},
   "source": [
    "## 클래스, 인스턴스, 스택틱 메소드\n",
    "- 클래스 : 클래스에 있는 변수\n",
    "- 인스턴스 : 인스턴스가 가지고 있는 정보에 접근\n",
    "- 스택틱 : 클래스, 인스턴스에 담긴 데이터와 상관없이 접근"
   ]
  },
  {
   "cell_type": "code",
   "execution_count": 55,
   "id": "ce96f80c-e3ea-4bf9-a6b0-7d9355e5c978",
   "metadata": {},
   "outputs": [],
   "source": [
    "class Puppy():\n",
    "    num_of_puppy = 0 \n",
    "\n",
    "    def __init__(self, name):\n",
    "        self.name = name\n",
    "        Puppy.num_of_puppy += 1\n",
    "\n",
    "    @classmethod\n",
    "    def get_status(cls):\n",
    "        print(f'현재 강아지는 {cls.num_of_puppy}마리 입니다.')\n",
    "\n",
    "    @staticmethod\n",
    "    def bark():\n",
    "        print('멍멍')\n",
    "    def bark2(self):\n",
    "        print(f'내 이름은 {self.name}(이)야 멍멍')"
   ]
  },
  {
   "cell_type": "code",
   "execution_count": 56,
   "id": "29565f42-3dd7-4cdf-9c7a-ceac4a11260e",
   "metadata": {},
   "outputs": [
    {
     "name": "stdout",
     "output_type": "stream",
     "text": [
      "현재 강아지는 3마리 입니다.\n",
      "멍멍\n",
      "내 이름은 초코(이)야 멍멍\n"
     ]
    }
   ],
   "source": [
    "p1 = Puppy('초코')\n",
    "p2 = Puppy('인절미')\n",
    "p3 = Puppy('별이')\n",
    "\n",
    "Puppy.get_status()\n",
    "p1.bark()\n",
    "p1.bark2()"
   ]
  },
  {
   "cell_type": "markdown",
   "id": "2af794b2-b1b2-4b9e-a6a6-9d2202ce41ee",
   "metadata": {},
   "source": [
    "## 상속"
   ]
  },
  {
   "cell_type": "code",
   "execution_count": 59,
   "id": "698b8899-6ca9-4dc8-95f9-2a8101667af6",
   "metadata": {},
   "outputs": [],
   "source": [
    "class Person():\n",
    "    ident = '111111-1111111'\n",
    "\n",
    "    def __init__(self, name):\n",
    "        self.name = name\n",
    "\n",
    "    def greeting(self):\n",
    "        print(f'안녕하세요 {self.name}입니다.')"
   ]
  },
  {
   "cell_type": "code",
   "execution_count": 60,
   "id": "b468088b-7a7b-46b1-8c68-28f16972077f",
   "metadata": {},
   "outputs": [],
   "source": [
    "p1 = Person('hong')\n",
    "p2 = Person('lee')"
   ]
  },
  {
   "cell_type": "code",
   "execution_count": 61,
   "id": "6bc5ee64-0342-487b-be51-bbe5004fc942",
   "metadata": {},
   "outputs": [
    {
     "name": "stdout",
     "output_type": "stream",
     "text": [
      "안녕하세요 hong입니다.\n",
      "안녕하세요 lee입니다.\n"
     ]
    }
   ],
   "source": [
    "p1.greeting()\n",
    "p2.greeting()"
   ]
  },
  {
   "cell_type": "code",
   "execution_count": 62,
   "id": "dc1e5a07-8b80-4fe9-b717-ae198c465ca4",
   "metadata": {},
   "outputs": [],
   "source": [
    "class Soldier(Person):\n",
    "    def greeting(self):\n",
    "        print(f'충성! {self.name}입니다.')"
   ]
  },
  {
   "cell_type": "code",
   "execution_count": 63,
   "id": "83520dd6-e804-422e-acf0-6bbe5e076deb",
   "metadata": {},
   "outputs": [
    {
     "name": "stdout",
     "output_type": "stream",
     "text": [
      "충성! kim입니다.\n",
      "111111-1111111\n"
     ]
    }
   ],
   "source": [
    "s1 = Soldier('kim')\n",
    "s1.greeting()\n",
    "print(s1.ident)"
   ]
  },
  {
   "cell_type": "code",
   "execution_count": 64,
   "id": "628763ed-6c5f-4e90-b67b-fb3db10ae538",
   "metadata": {},
   "outputs": [],
   "source": [
    "class Student(Person):\n",
    "    student_id = '123456'\n",
    "\n",
    "    def __init__(self, student_id):\n",
    "        self.student_id = student_id\n",
    "        "
   ]
  },
  {
   "cell_type": "code",
   "execution_count": 67,
   "id": "0842dcb7-a8a6-427f-b672-70ddc2562007",
   "metadata": {},
   "outputs": [
    {
     "data": {
      "text/plain": [
       "<__main__.Student at 0x1cb4cadb2d0>"
      ]
     },
     "execution_count": 67,
     "metadata": {},
     "output_type": "execute_result"
    }
   ],
   "source": [
    "s2 = Student('789789')\n",
    "s2"
   ]
  },
  {
   "cell_type": "code",
   "execution_count": 66,
   "id": "ed5ab04c-7a4d-47ca-835b-4fca59f86cb8",
   "metadata": {},
   "outputs": [
    {
     "ename": "AttributeError",
     "evalue": "'Student' object has no attribute 'name'",
     "output_type": "error",
     "traceback": [
      "\u001b[1;31m---------------------------------------------------------------------------\u001b[0m",
      "\u001b[1;31mAttributeError\u001b[0m                            Traceback (most recent call last)",
      "Cell \u001b[1;32mIn[66], line 2\u001b[0m\n\u001b[0;32m      1\u001b[0m s2 \u001b[38;5;241m=\u001b[39m Student(\u001b[38;5;124m'\u001b[39m\u001b[38;5;124mpark\u001b[39m\u001b[38;5;124m'\u001b[39m)\n\u001b[1;32m----> 2\u001b[0m \u001b[43ms2\u001b[49m\u001b[38;5;241;43m.\u001b[39;49m\u001b[43mgreeting\u001b[49m\u001b[43m(\u001b[49m\u001b[43m)\u001b[49m\n",
      "Cell \u001b[1;32mIn[59], line 8\u001b[0m, in \u001b[0;36mPerson.greeting\u001b[1;34m(self)\u001b[0m\n\u001b[0;32m      7\u001b[0m \u001b[38;5;28;01mdef\u001b[39;00m \u001b[38;5;21mgreeting\u001b[39m(\u001b[38;5;28mself\u001b[39m):\n\u001b[1;32m----> 8\u001b[0m     \u001b[38;5;28mprint\u001b[39m(\u001b[38;5;124mf\u001b[39m\u001b[38;5;124m'\u001b[39m\u001b[38;5;124m안녕하세요 \u001b[39m\u001b[38;5;132;01m{\u001b[39;00m\u001b[38;5;28;43mself\u001b[39;49m\u001b[38;5;241;43m.\u001b[39;49m\u001b[43mname\u001b[49m\u001b[38;5;132;01m}\u001b[39;00m\u001b[38;5;124m입니다.\u001b[39m\u001b[38;5;124m'\u001b[39m)\n",
      "\u001b[1;31mAttributeError\u001b[0m: 'Student' object has no attribute 'name'"
     ]
    }
   ],
   "source": [
    "s2 = Student('park')\n",
    "s2.greeting()"
   ]
  },
  {
   "cell_type": "code",
   "execution_count": null,
   "id": "431fff6c-f65d-483d-8378-c67eb5c92215",
   "metadata": {},
   "outputs": [],
   "source": []
  }
 ],
 "metadata": {
  "kernelspec": {
   "display_name": "Python 3 (ipykernel)",
   "language": "python",
   "name": "python3"
  },
  "language_info": {
   "codemirror_mode": {
    "name": "ipython",
    "version": 3
   },
   "file_extension": ".py",
   "mimetype": "text/x-python",
   "name": "python",
   "nbconvert_exporter": "python",
   "pygments_lexer": "ipython3",
   "version": "3.11.4"
  }
 },
 "nbformat": 4,
 "nbformat_minor": 5
}
