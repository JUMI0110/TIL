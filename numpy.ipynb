{
 "cells": [
  {
   "cell_type": "markdown",
   "id": "26fa62de-6b5b-446f-bcdf-5255d546c888",
   "metadata": {},
   "source": [
    "# numpy\n",
    "## 1.1 ndarray 생성"
   ]
  },
  {
   "cell_type": "code",
   "execution_count": 1,
   "id": "630660ee-d3b8-44c0-b4ba-d3f603e9579f",
   "metadata": {},
   "outputs": [],
   "source": [
    "import numpy as np"
   ]
  },
  {
   "cell_type": "code",
   "execution_count": 2,
   "id": "d67bdb9a-8a67-4756-b529-70ac618a5d8a",
   "metadata": {},
   "outputs": [],
   "source": [
    "# 범위로 배열 생성\n",
    "arr = np.arange(10)\n",
    "ls = list(range(10))"
   ]
  },
  {
   "cell_type": "code",
   "execution_count": 15,
   "id": "8fd9a0ba-d3bf-4174-a0f0-eb5918b70d29",
   "metadata": {},
   "outputs": [
    {
     "name": "stdout",
     "output_type": "stream",
     "text": [
      "[[   5.     1.1   -5. ]\n",
      " [ 123.  -123.     0. ]]\n",
      "float64\n",
      "(2, 3)\n",
      "2\n"
     ]
    }
   ],
   "source": [
    "# 파이썬에서 만든 리스트를 numpy의 array로 변환 -> 데이터타입은 동일하게 출력\n",
    "a = [\n",
    "    [5, 1.1, -5],\n",
    "    [123, -123, 0]\n",
    "]\n",
    "data = np.array(a)\n",
    "print(data)\n",
    "print(data.dtype) #데이터타입\n",
    "print(data.shape) #데이터구조 (행렬)\n",
    "print(data.ndim) #데이터차원출력(리스트의 중첩)"
   ]
  },
  {
   "cell_type": "code",
   "execution_count": 18,
   "id": "1e9a1ee5-bb6e-4e44-887c-b5c8c356f39d",
   "metadata": {
    "scrolled": true
   },
   "outputs": [
    {
     "name": "stdout",
     "output_type": "stream",
     "text": [
      "[0. 0. 0. 0. 0. 0. 0. 0. 0. 0.]\n",
      "[[0. 0. 0.]\n",
      " [0. 0. 0.]]\n",
      "[[[0. 0. 0. 0.]\n",
      "  [0. 0. 0. 0.]\n",
      "  [0. 0. 0. 0.]]\n",
      "\n",
      " [[0. 0. 0. 0.]\n",
      "  [0. 0. 0. 0.]\n",
      "  [0. 0. 0. 0.]]]\n"
     ]
    }
   ],
   "source": [
    "# 임의의 0으로 채워진 배열 생성 (행, 열, 중첩)\n",
    "print(np.zeros(10))\n",
    "print(np.zeros((2, 3)))\n",
    "print(np.zeros((2, 3, 4)))"
   ]
  },
  {
   "cell_type": "code",
   "execution_count": 35,
   "id": "3aa29eba-5fa3-40fb-93b7-ccc1c8cf7be4",
   "metadata": {},
   "outputs": [
    {
     "name": "stdout",
     "output_type": "stream",
     "text": [
      "[[0 1 2]\n",
      " [3 4 5]\n",
      " [6 7 8]]\n"
     ]
    }
   ],
   "source": [
    "# 범위 데이터 구조 변경 생성\n",
    "arr2d = np.arange(9).reshape(3, 3) # 9개의 데이터 3행 3열의 배열\n",
    "print(arr2d)"
   ]
  },
  {
   "cell_type": "markdown",
   "id": "c6033b6b-94f7-4a9b-9e2d-26ee2d8aabcf",
   "metadata": {},
   "source": [
    "## 1.2 자료형"
   ]
  },
  {
   "cell_type": "code",
   "execution_count": 19,
   "id": "2cbf25a1-7d32-4171-98ec-e927777340bb",
   "metadata": {},
   "outputs": [
    {
     "name": "stdout",
     "output_type": "stream",
     "text": [
      "float64\n",
      "int32\n"
     ]
    }
   ],
   "source": [
    "# dtype옵션으로 강제 형변환\n",
    "arr1 = np.array([1, 3, 5], dtype=np.float64)\n",
    "arr2 = np.array([2, 4, 6], dtype=np.int32)\n",
    "print(arr1.dtype)\n",
    "print(arr2.dtype)"
   ]
  },
  {
   "cell_type": "code",
   "execution_count": 20,
   "id": "63231498-567d-4c84-a68e-1b0f5fffedbe",
   "metadata": {},
   "outputs": [
    {
     "name": "stdout",
     "output_type": "stream",
     "text": [
      "[0. 1. 2. 3. 4. 5. 6. 7. 8. 9.]\n",
      "float32\n"
     ]
    }
   ],
   "source": [
    "# 모듈 이용한 형변환\n",
    "float_arr2 = arr.astype(np.float32)\n",
    "print(float_arr2)\n",
    "print(float_arr2.dtype)"
   ]
  },
  {
   "cell_type": "code",
   "execution_count": 21,
   "id": "b1bccf44-e8f5-487a-b4f9-e1de4393bf2e",
   "metadata": {},
   "outputs": [],
   "source": [
    "# 형변환 시 데이터 손실 일어날 수 있음 (float -> int)"
   ]
  },
  {
   "cell_type": "markdown",
   "id": "05fddf7c-2587-40ae-985d-c9453c2ec103",
   "metadata": {},
   "source": [
    "## 1.3 연산"
   ]
  },
  {
   "cell_type": "code",
   "execution_count": 12,
   "id": "03c9e992-bc18-471f-93e6-0f3ef8173989",
   "metadata": {},
   "outputs": [
    {
     "name": "stdout",
     "output_type": "stream",
     "text": [
      "[[  10.     2.2  -10. ]\n",
      " [ 246.  -246.     0. ]]\n"
     ]
    }
   ],
   "source": [
    "# 배열의 계산 -> 같은 위치에 있는 데이터끼리 연산\n",
    "print(data + data)"
   ]
  },
  {
   "cell_type": "code",
   "execution_count": 13,
   "id": "dce5d223-2019-4c71-b3f5-e651f6bcf2df",
   "metadata": {},
   "outputs": [
    {
     "name": "stdout",
     "output_type": "stream",
     "text": [
      "[[  10.     2.2  -10. ]\n",
      " [ 246.  -246.     0. ]]\n"
     ]
    }
   ],
   "source": [
    "# 배열의 계산 -> 모든 인자에 연산\n",
    "print(data * 2)"
   ]
  },
  {
   "cell_type": "code",
   "execution_count": 26,
   "id": "0d9f9ba0-efb1-4702-9297-f13a6e985fbc",
   "metadata": {},
   "outputs": [
    {
     "name": "stdout",
     "output_type": "stream",
     "text": [
      "[[False False  True]\n",
      " [False False  True]]\n"
     ]
    }
   ],
   "source": [
    "# 비교 연산 - 각 위치에 맞는 데이터와 비교 후 새로운 배열로 결과값 출력\n",
    "a = [\n",
    "    [1, 2, 3],\n",
    "    [4, 5, 6]\n",
    "]\n",
    "b = [\n",
    "    [3, 2, 1],\n",
    "    [6, 5, 4]\n",
    "]\n",
    "arr = np.array(a)\n",
    "arr2 = np.array(b)\n",
    "print(arr > arr2)"
   ]
  },
  {
   "cell_type": "markdown",
   "id": "08784bd7-1d2f-43dc-b1de-6273f9c9cdcd",
   "metadata": {},
   "source": [
    "## 1.4 인덱싱, 슬라이싱"
   ]
  },
  {
   "cell_type": "code",
   "execution_count": 36,
   "id": "7369cc85-f194-456e-a877-927ee968a41f",
   "metadata": {},
   "outputs": [
    {
     "name": "stdout",
     "output_type": "stream",
     "text": [
      "[0 1 2 3 4 5 6 7 8 9]\n",
      "5\n",
      "[3 4 5]\n"
     ]
    }
   ],
   "source": [
    "#인덱싱\n",
    "arr = np.arange(10)\n",
    "print(arr)\n",
    "print(arr[5])\n",
    "print(arr[3:6])"
   ]
  },
  {
   "cell_type": "code",
   "execution_count": 31,
   "id": "7b61ce46-c4c8-40b5-89d3-141430b2d4ec",
   "metadata": {},
   "outputs": [
    {
     "name": "stdout",
     "output_type": "stream",
     "text": [
      "[ 0  1  2 99 99 99  6  7  8  9]\n",
      "[99 99 99]\n",
      "[99 55 99]\n",
      "[ 0  1  2 99 55 99  6  7  8  9]\n"
     ]
    }
   ],
   "source": [
    "#복제가 아닌 원본데이터를 수정\n",
    "arr[3:6] = 99\n",
    "print(arr)\n",
    "\n",
    "slice_arr = arr[3:6]\n",
    "print(slice_arr)\n",
    "\n",
    "slice_arr[1] = 55\n",
    "print(slice_arr)\n",
    "print(arr)"
   ]
  },
  {
   "cell_type": "code",
   "execution_count": 32,
   "id": "c4848b10-22ce-463f-b7e2-0e114cade1b5",
   "metadata": {},
   "outputs": [
    {
     "name": "stdout",
     "output_type": "stream",
     "text": [
      "[[[1 2 3]\n",
      "  [3 2 1]]\n",
      "\n",
      " [[4 5 6]\n",
      "  [6 5 4]]]\n",
      "1\n",
      "1\n"
     ]
    }
   ],
   "source": [
    "# 대괄호 -> ',' 접근 가능\n",
    "a = [\n",
    "    [\n",
    "        [1, 2, 3],\n",
    "        [3, 2, 1]\n",
    "    ],\n",
    "    [\n",
    "        [4, 5, 6],\n",
    "        [6, 5, 4]\n",
    "    ]\n",
    "]\n",
    "arr = np.array(a)\n",
    "print(arr)\n",
    "print(arr[0][1][2])\n",
    "print(arr[0, 1, 2])"
   ]
  },
  {
   "cell_type": "code",
   "execution_count": 46,
   "id": "e9b34127-541d-4c51-9650-2fff1aee997f",
   "metadata": {},
   "outputs": [
    {
     "data": {
      "text/plain": [
       "array([[0, 1, 2],\n",
       "       [3, 4, 5]])"
      ]
     },
     "execution_count": 46,
     "metadata": {},
     "output_type": "execute_result"
    }
   ],
   "source": [
    "#슬라이싱\n",
    "arr2d = np.arange(9).reshape(3, 3)\n",
    "arr2d[:2]"
   ]
  },
  {
   "cell_type": "code",
   "execution_count": 48,
   "id": "9c2f95e9-60e0-408c-83ea-507d8cac6eea",
   "metadata": {},
   "outputs": [
    {
     "name": "stdout",
     "output_type": "stream",
     "text": [
      "[[0 1 2]\n",
      " [3 4 5]\n",
      " [6 7 8]]\n"
     ]
    },
    {
     "data": {
      "text/plain": [
       "array([[1, 2],\n",
       "       [4, 5]])"
      ]
     },
     "execution_count": 48,
     "metadata": {},
     "output_type": "execute_result"
    }
   ],
   "source": [
    "# 대괄호 -> ',' 접근 가능\n",
    "print(arr2d)\n",
    "arr2d[:2, 1:]"
   ]
  },
  {
   "cell_type": "code",
   "execution_count": 49,
   "id": "1833ff1b-69ca-47ec-99a5-6369cbaedf27",
   "metadata": {},
   "outputs": [
    {
     "name": "stdout",
     "output_type": "stream",
     "text": [
      "[[13  1  2]\n",
      " [13  4  5]\n",
      " [13  7  8]]\n"
     ]
    }
   ],
   "source": [
    "arr2d[:, :1] = 13\n",
    "print(arr2d)"
   ]
  },
  {
   "cell_type": "markdown",
   "id": "ea477404-a3a9-4e4e-8c20-ba062a852a43",
   "metadata": {},
   "source": [
    "## bool값으로 선택"
   ]
  },
  {
   "cell_type": "code",
   "execution_count": 50,
   "id": "cb74ccca-6fe3-4f6c-b70c-50aea72159f3",
   "metadata": {},
   "outputs": [],
   "source": [
    "# 특정한 조건으로 True, False 배열을 만들어 True에 해당하는 데이터값 인덱싱하여 출력\n",
    "names = ['hong', 'kim', 'park', 'kim']\n",
    "scores = [\n",
    "    ['수학', 70],\n",
    "    ['영어', 80],\n",
    "    ['수학', 100],\n",
    "    ['수학', 90]\n",
    "]\n",
    "names_arr = np.array(names)\n",
    "scores_arr = np.array(scores)"
   ]
  },
  {
   "cell_type": "code",
   "execution_count": 51,
   "id": "4fd654b9-b565-4778-8bcb-4f61f300c66a",
   "metadata": {},
   "outputs": [
    {
     "data": {
      "text/plain": [
       "array([ True, False, False, False])"
      ]
     },
     "execution_count": 51,
     "metadata": {},
     "output_type": "execute_result"
    }
   ],
   "source": [
    "names_arr == 'hong'"
   ]
  },
  {
   "cell_type": "code",
   "execution_count": 52,
   "id": "46e48d30-361a-4664-ae6c-4adeae90a1b6",
   "metadata": {},
   "outputs": [
    {
     "data": {
      "text/plain": [
       "array([['수학', '70']], dtype='<U21')"
      ]
     },
     "execution_count": 52,
     "metadata": {},
     "output_type": "execute_result"
    }
   ],
   "source": [
    "scores_arr[names_arr == 'hong']"
   ]
  },
  {
   "cell_type": "code",
   "execution_count": 53,
   "id": "96d2d8e6-cbde-47df-aa01-e45161f0ac3d",
   "metadata": {},
   "outputs": [
    {
     "data": {
      "text/plain": [
       "array([['영어', '80'],\n",
       "       ['수학', '90']], dtype='<U21')"
      ]
     },
     "execution_count": 53,
     "metadata": {},
     "output_type": "execute_result"
    }
   ],
   "source": [
    "#보통 변수에 저장하여 사용\n",
    "cond = names_arr == 'kim'\n",
    "scores_arr[cond]"
   ]
  },
  {
   "cell_type": "code",
   "execution_count": 54,
   "id": "ffd2ce68-58dc-49bc-adab-06952c77dc13",
   "metadata": {},
   "outputs": [
    {
     "name": "stdout",
     "output_type": "stream",
     "text": [
      "[ True False  True False]\n"
     ]
    },
    {
     "data": {
      "text/plain": [
       "array([['수학', '70'],\n",
       "       ['영어', '80'],\n",
       "       ['수학', '90']], dtype='<U21')"
      ]
     },
     "execution_count": 54,
     "metadata": {},
     "output_type": "execute_result"
    }
   ],
   "source": [
    "# ~() 괄호안의 데이터 반대로 치환\n",
    "print(~(names_arr == 'kim'))\n",
    "# | = and \n",
    "cond = (names_arr == 'kim') | (names_arr == 'hong')\n",
    "scores_arr[cond]"
   ]
  },
  {
   "cell_type": "markdown",
   "id": "d361dd34-c9ad-4f6f-ad0b-a202a9acf0ff",
   "metadata": {},
   "source": [
    "## 1.6 팬시 인덱싱(fancy indexing)"
   ]
  },
  {
   "cell_type": "code",
   "execution_count": 63,
   "id": "19dc2e79-b631-4804-8a62-062a1bc70251",
   "metadata": {},
   "outputs": [
    {
     "name": "stdout",
     "output_type": "stream",
     "text": [
      "[[ 0  1  2  3]\n",
      " [ 4  5  6  7]\n",
      " [ 8  9 10 11]\n",
      " [12 13 14 15]\n",
      " [16 17 18 19]\n",
      " [20 21 22 23]\n",
      " [24 25 26 27]]\n",
      "---------------\n",
      "[[ 4  5  6  7]\n",
      " [16 17 18 19]\n",
      " [20 21 22 23]\n",
      " [ 8  9 10 11]\n",
      " [ 0  1  2  3]]\n",
      "---------------\n",
      "[[16 17 18 19]\n",
      " [24 25 26 27]]\n"
     ]
    }
   ],
   "source": [
    "# 특정한 데이터를 순서와 상관없이 여러개 출력하고 싶을 때 배열[[]]\n",
    "arr = np.arange(28).reshape(7, 4)\n",
    "print(arr)\n",
    "print('-' * 15)\n",
    "print(arr[[1, 4, 5, 2, 0]])\n",
    "print('-' * 15)\n",
    "print(arr[[-3, -1]])"
   ]
  },
  {
   "cell_type": "markdown",
   "id": "7755b43e-5e2e-4277-b837-efd4bde4d78c",
   "metadata": {},
   "source": [
    "## 1.7 전치"
   ]
  },
  {
   "cell_type": "code",
   "execution_count": 68,
   "id": "1aed96ba-245e-4f29-a3d4-16ba8f896e04",
   "metadata": {},
   "outputs": [
    {
     "name": "stdout",
     "output_type": "stream",
     "text": [
      "[[ 0  1  2  3  4  5]\n",
      " [ 6  7  8  9 10 11]\n",
      " [12 13 14 15 16 17]]\n",
      "-------------------------\n",
      "[[ 0  6 12]\n",
      " [ 1  7 13]\n",
      " [ 2  8 14]\n",
      " [ 3  9 15]\n",
      " [ 4 10 16]\n",
      " [ 5 11 17]]\n"
     ]
    }
   ],
   "source": [
    "# 배열의 행, 열을 뒤집음 대각선 기준\n",
    "arr = np.arange(18).reshape(3, 6)\n",
    "print(arr)\n",
    "print('-' * 25)\n",
    "print(arr.T)"
   ]
  },
  {
   "cell_type": "code",
   "execution_count": 71,
   "id": "aae5363d-ab53-45fc-92fd-f17c6afbf459",
   "metadata": {},
   "outputs": [
    {
     "name": "stdout",
     "output_type": "stream",
     "text": [
      "[[  55  145  235]\n",
      " [ 145  451  757]\n",
      " [ 235  757 1279]]\n"
     ]
    }
   ],
   "source": [
    "# 행렬의 곱\n",
    "print(np.dot(arr, arr.T)) # arr @ arr.T"
   ]
  },
  {
   "cell_type": "markdown",
   "id": "662c91af-64b7-42d6-b3bd-81e82dde72f3",
   "metadata": {},
   "source": [
    "## 난수 생성"
   ]
  },
  {
   "cell_type": "code",
   "execution_count": 74,
   "id": "d6af3c33-3514-4309-940d-5badc7eb58f9",
   "metadata": {},
   "outputs": [
    {
     "name": "stdout",
     "output_type": "stream",
     "text": [
      "[[-0.78697732  0.52666072]\n",
      " [ 2.26654353  0.03865105]]\n",
      "[[       nan 0.72571394]\n",
      " [1.50550441 0.1965987 ]]\n",
      "[[0.78697732 0.52666072]\n",
      " [2.26654353 0.03865105]]\n",
      "[[ True False]\n",
      " [False False]]\n"
     ]
    },
    {
     "name": "stderr",
     "output_type": "stream",
     "text": [
      "C:\\Users\\2-12\\AppData\\Local\\Temp\\ipykernel_13800\\4108739441.py:3: RuntimeWarning: invalid value encountered in sqrt\n",
      "  print(np.sqrt(sample)) # 제곱근\n",
      "C:\\Users\\2-12\\AppData\\Local\\Temp\\ipykernel_13800\\4108739441.py:5: RuntimeWarning: invalid value encountered in sqrt\n",
      "  print(np.isnan(np.sqrt(sample)))  # nan이 있는지 확인\n"
     ]
    }
   ],
   "source": [
    "sample = np.random.standard_normal(size=(2, 2))\n",
    "print(sample)\n",
    "print(np.sqrt(sample)) # 제곱근 \n",
    "print(np.abs(sample)) # 절대값\n",
    "print(np.isnan(np.sqrt(sample)))  # nan이 있는지 확인\n"
   ]
  },
  {
   "cell_type": "code",
   "execution_count": 75,
   "id": "b3724fd6-117f-41c0-af72-07f6ca695bd3",
   "metadata": {},
   "outputs": [],
   "source": [
    "import random\n",
    "position = 0\n",
    "walk = [position]\n",
    "nsteps = 1000\n",
    "for _ in range(nsteps):\n",
    "    step = 1 if random.randint(0, 1) else -1\n",
    "    position += step\n",
    "    walk.append(position)\n",
    "walk_arr = np.array(walk)"
   ]
  },
  {
   "cell_type": "code",
   "execution_count": 77,
   "id": "30795aae-50bf-4140-96ef-6fe8faca854c",
   "metadata": {},
   "outputs": [
    {
     "data": {
      "text/plain": [
       "<Figure size 640x480 with 0 Axes>"
      ]
     },
     "execution_count": 77,
     "metadata": {},
     "output_type": "execute_result"
    },
    {
     "data": {
      "text/plain": [
       "<Figure size 640x480 with 0 Axes>"
      ]
     },
     "metadata": {},
     "output_type": "display_data"
    }
   ],
   "source": [
    "import matplotlib.pyplot as plt\n",
    "plt.figure()"
   ]
  },
  {
   "cell_type": "code",
   "execution_count": 78,
   "id": "3837a1a4-eec9-4369-80cc-59161bfe83f4",
   "metadata": {},
   "outputs": [
    {
     "data": {
      "text/plain": [
       "<function matplotlib.pyplot.show(close=None, block=None)>"
      ]
     },
     "execution_count": 78,
     "metadata": {},
     "output_type": "execute_result"
    },
    {
     "data": {
      "image/png": "[encoded data removed]",
      "text/plain": [
       "<Figure size 640x480 with 1 Axes>"
      ]
     },
     "metadata": {},
     "output_type": "display_data"
    }
   ],
   "source": [
    "plt.plot(walk_arr[:100])\n",
    "plt.show"
   ]
  },
  {
   "cell_type": "code",
   "execution_count": 79,
   "id": "b186f618-94e1-4170-94c7-c8b987b707c2",
   "metadata": {},
   "outputs": [
    {
     "name": "stdout",
     "output_type": "stream",
     "text": [
      "24\n",
      "-4\n",
      "50\n"
     ]
    }
   ],
   "source": [
    "# 최댓값, 최솟값, 범위 내 최초의 값\n",
    "print(walk_arr[:100].max())\n",
    "print(walk_arr[:100].min())\n",
    "print((walk_arr[:100] >= 12).argmax())"
   ]
  },
  {
   "cell_type": "code",
   "execution_count": null,
   "id": "415027bd-eb5c-457b-9bbd-9352cd8bddb6",
   "metadata": {},
   "outputs": [],
   "source": []
  }
 ],
 "metadata": {
  "kernelspec": {
   "display_name": "Python 3 (ipykernel)",
   "language": "python",
   "name": "python3"
  },
  "language_info": {
   "codemirror_mode": {
    "name": "ipython",
    "version": 3
   },
   "file_extension": ".py",
   "mimetype": "text/x-python",
   "name": "python",
   "nbconvert_exporter": "python",
   "pygments_lexer": "ipython3",
   "version": "3.12.4"
  }
 },
 "nbformat": 4,
 "nbformat_minor": 5
}
