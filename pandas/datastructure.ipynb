{
 "cells": [
  {
   "cell_type": "markdown",
   "id": "d85986c5-5b13-4361-8667-176884def91e",
   "metadata": {},
   "source": [
    "# Series\n",
    "\n",
    "- 1차원 배열 위에서 아래로 출력 -> idx: 데이터"
   ]
  },
  {
   "cell_type": "code",
   "execution_count": 2,
   "id": "6ae7962b-d16e-4543-9f4d-c1f091c9b721",
   "metadata": {},
   "outputs": [],
   "source": [
    "import pandas as pd\n",
    "import numpy as np"
   ]
  },
  {
   "cell_type": "code",
   "execution_count": 6,
   "id": "a210b9f2-8dca-4d84-9e48-afdb257cfa9f",
   "metadata": {},
   "outputs": [],
   "source": [
    "arr = np.arange(13, 20)\n",
    "# print(arr)\n",
    "# print('-' * 25)\n",
    "s = pd.Series(arr)\n",
    "# print(s)"
   ]
  },
  {
   "cell_type": "code",
   "execution_count": 7,
   "id": "dc57a1de-837c-4673-a461-9aff9dd19418",
   "metadata": {},
   "outputs": [],
   "source": [
    "#형변환 가능\n",
    "s = pd.Series(arr, dtype='int32')\n",
    "# print(s)"
   ]
  },
  {
   "cell_type": "code",
   "execution_count": null,
   "id": "c9631ea2-8231-4805-ae05-e6ea1ca9dfc2",
   "metadata": {},
   "outputs": [],
   "source": []
  },
  {
   "cell_type": "markdown",
   "id": "210f2872-ae44-48a0-baa7-82b6c9c827d0",
   "metadata": {},
   "source": [
    "## indexing\n",
    "- series[인덱스번호]\n",
    "- series[문자] (index='문자')"
   ]
  },
  {
   "cell_type": "code",
   "execution_count": 10,
   "id": "3accd9c2-7daf-41e2-9621-d5950750d530",
   "metadata": {},
   "outputs": [],
   "source": [
    "person = ['kim', 'lee', 'park', 'hong']\n",
    "s = pd.Series(person)"
   ]
  },
  {
   "cell_type": "code",
   "execution_count": 11,
   "id": "1c35b286-423d-4e4e-9b1a-934826ccd161",
   "metadata": {},
   "outputs": [
    {
     "data": {
      "text/plain": [
       "'park'"
      ]
     },
     "execution_count": 11,
     "metadata": {},
     "output_type": "execute_result"
    }
   ],
   "source": [
    "s[2]"
   ]
  },
  {
   "cell_type": "code",
   "execution_count": 13,
   "id": "78b241ca-cc42-4fad-94fe-ab3e4087baa0",
   "metadata": {},
   "outputs": [],
   "source": [
    "# s = pd.Series(person, index=['a', 'b', 'c', 'd'])\n",
    "s = pd.Series(person, index=list('abcd'))"
   ]
  },
  {
   "cell_type": "code",
   "execution_count": 14,
   "id": "1db9e1ba-a523-4f84-b696-57c1725e16b7",
   "metadata": {},
   "outputs": [
    {
     "data": {
      "text/plain": [
       "'kim'"
      ]
     },
     "execution_count": 14,
     "metadata": {},
     "output_type": "execute_result"
    }
   ],
   "source": [
    "s['a']"
   ]
  },
  {
   "cell_type": "markdown",
   "id": "b3bfe3fa-1172-4e98-aeed-db205833f855",
   "metadata": {},
   "source": [
    "## NaN(Not a Number) 결측치"
   ]
  },
  {
   "cell_type": "code",
   "execution_count": 16,
   "id": "6b10b628-a20b-4dc1-969c-db5c329cdcb1",
   "metadata": {},
   "outputs": [
    {
     "name": "stdout",
     "output_type": "stream",
     "text": [
      "0     kim\n",
      "1     lee\n",
      "2    park\n",
      "3    hong\n",
      "4     NaN\n",
      "dtype: object\n"
     ]
    }
   ],
   "source": [
    "s = pd.Series(person + [np.nan]) # nan값 추가\n",
    "print(s)"
   ]
  },
  {
   "cell_type": "code",
   "execution_count": 18,
   "id": "b0ad9d51-7c7a-4ad3-aaf9-de53b2f12170",
   "metadata": {},
   "outputs": [
    {
     "name": "stdout",
     "output_type": "stream",
     "text": [
      "0    50.0\n",
      "1    51.0\n",
      "2    52.0\n",
      "3    53.0\n",
      "4    54.0\n",
      "dtype: float32\n"
     ]
    }
   ],
   "source": [
    "arr = np.arange(50, 55)\n",
    "s = pd.Series(arr, dtype='float32')\n",
    "print(s)"
   ]
  },
  {
   "cell_type": "code",
   "execution_count": null,
   "id": "54a1b85f-65d1-4507-9715-6c3b238d8dfa",
   "metadata": {},
   "outputs": [],
   "source": []
  },
  {
   "cell_type": "code",
   "execution_count": null,
   "id": "2c87e575-037f-402c-931b-fe85a9fb7aeb",
   "metadata": {},
   "outputs": [],
   "source": []
  },
  {
   "cell_type": "code",
   "execution_count": null,
   "id": "1682bc2c-22a9-4b8f-b980-007e99e1633e",
   "metadata": {},
   "outputs": [],
   "source": []
  },
  {
   "cell_type": "code",
   "execution_count": null,
   "id": "c1a711f3-a813-4447-937a-382b436f0c99",
   "metadata": {},
   "outputs": [],
   "source": []
  },
  {
   "cell_type": "code",
   "execution_count": null,
   "id": "cb201f2f-f2c3-4cf4-b184-4d736b200128",
   "metadata": {},
   "outputs": [],
   "source": []
  },
  {
   "cell_type": "code",
   "execution_count": null,
   "id": "4e5dfddd-d984-43f0-bf21-c38d6169f750",
   "metadata": {},
   "outputs": [],
   "source": []
  },
  {
   "cell_type": "code",
   "execution_count": null,
   "id": "b9e843dd-6486-4480-a9eb-5b04a8ffb4a6",
   "metadata": {},
   "outputs": [],
   "source": []
  },
  {
   "cell_type": "code",
   "execution_count": null,
   "id": "fa8d7aa3-2d68-4e46-a4cb-bb4ec4e5c52a",
   "metadata": {},
   "outputs": [],
   "source": []
  }
 ],
 "metadata": {
  "kernelspec": {
   "display_name": "Python 3 (ipykernel)",
   "language": "python",
   "name": "python3"
  },
  "language_info": {
   "codemirror_mode": {
    "name": "ipython",
    "version": 3
   },
   "file_extension": ".py",
   "mimetype": "text/x-python",
   "name": "python",
   "nbconvert_exporter": "python",
   "pygments_lexer": "ipython3",
   "version": "3.12.4"
  }
 },
 "nbformat": 4,
 "nbformat_minor": 5
}
